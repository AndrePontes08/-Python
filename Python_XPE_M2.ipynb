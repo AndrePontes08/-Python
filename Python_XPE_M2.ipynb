{
 "cells": [
  {
   "cell_type": "code",
   "execution_count": 2,
   "metadata": {},
   "outputs": [],
   "source": [
    "#2. Importar as bibliotecas do numpy e pandas conforme:\n",
    "import pandas as pd\n",
    "import sklearn as sk\n",
    "import matplotlib as plt\n",
    "import numpy as np"
   ]
  },
  {
   "cell_type": "code",
   "execution_count": 53,
   "metadata": {},
   "outputs": [],
   "source": [
    "#3. Carregar o dataset https://pycourse.s3.amazonaws.com/bike-sharing.csv para análise utilizando o pandas.\n",
    "data_frame = pd.read_csv(\"https://pycourse.s3.amazonaws.com/bike-sharing.csv\")\n",
    "data_frame['datetime'] = pd.to_datetime(data_frame['datetime'])\n",
    "mapeamento_estacoes = {1: 'inverno', 2: 'primavera', 3: 'verão', 4: 'outono'}"
   ]
  },
  {
   "cell_type": "code",
   "execution_count": 91,
   "metadata": {},
   "outputs": [
    {
     "name": "stdout",
     "output_type": "stream",
     "text": [
      "O tamanho do data frame é 17379 linhas e 17 colunas\n",
      "Média da coluna windspeed é 0.190\n",
      "Média da coluna temp é 0.497\n",
      "Registros que existem para o ano de 2011 foram : 8645\n",
      "Registros que existem para o ano de 2012 foram : 8734\n",
      "Quantidade de Locações de Bicicletas em 2011 foram :1243103\n",
      "Quantidade de Locações de Bicicletas em 2012 foram :2049576\n",
      "Estação do ano que contém a maior média de locações de bicicletas :3 no caso Verão\n",
      "Estação do ano que contém a menor média de locações de bicicletas :1 no caso inverno\n",
      "17 horas é o horário do dia que contém a maior média de locações de bicicletas\n",
      "4 horas é o horário do dia que contém a menor média de locações de bicicletas\n",
      "4 dia da semana contém a maior média de locações de bicicletas\n",
      "0 dia da semana contém a menor média de locações de bicicletas\n",
      "Às quartas-feiras (weekday = 3), o horário do dia que contém a maior média de locações de bicicletas é as 17hs\n",
      "Aos sábados (weekday = 6), o horário do dia que contém a maior média de locações de bicicletas é as 13hs\n"
     ]
    }
   ],
   "source": [
    "#4. Responder às seguintes perguntas:\n",
    "#a. Qual o tamanho desse dataset?\n",
    "print('O tamanho do data frame é {} linhas e {} colunas'.format(data_frame.shape[0],data_frame.shape[1]))\n",
    "#b. Qual a média da coluna windspeed?\n",
    "print('Média da coluna windspeed é {:.3f}'.format(data_frame['windspeed'].mean()))\n",
    "#c. Qual a média da coluna temp?\n",
    "print('Média da coluna temp é {:.3f}'.format(data_frame['temp'].mean()))\n",
    "#d. Quantos registros existem para o ano de 2011?\n",
    "print('Registros que existem para o ano de 2011 foram : {}'.format(data_frame[data_frame['datetime'].dt.year == 2011].shape[0]))\n",
    "#e. Quantos registros existem para o ano de 2012?\n",
    "print('Registros que existem para o ano de 2012 foram : {}'.format(data_frame[data_frame['datetime'].dt.year == 2012].shape[0]))\n",
    "#f. Quantas locações de bicicletas foram efetuadas em 2011?\n",
    "registros_2011 = data_frame[data_frame['datetime'].dt.year == 2011]\n",
    "print('Quantidade de Locações de Bicicletas em 2011 foram :{}'.format(registros_2011['total_count'].sum()))\n",
    "#g. Quantas locações de bicicletas foram efetuadas em 2012?\n",
    "registros_2012 = data_frame[data_frame['datetime'].dt.year == 2012]\n",
    "print('Quantidade de Locações de Bicicletas em 2012 foram :{}'.format(registros_2012['total_count'].sum()))\n",
    "#h. Qual estação do ano contém a maior média de locações de bicicletas?\n",
    "agrupado = data_frame.groupby('season')['total_count'].mean()\n",
    "data_frame_agrupado = pd.DataFrame(agrupado)\n",
    "    # Alterar os nomes das colunas\n",
    "data_frame_agrupado['season'] = data_frame_agrupado.index.map(mapeamento_estacoes)\n",
    "maior_season = data_frame_agrupado['total_count'].idxmax()\n",
    "print('Estação do ano que contém a maior média de locações de bicicletas :{} no caso Verão'.format(maior_season))\n",
    "#i. Qual estação do ano contém a menor média de locações de bicicletas?\n",
    "menor_season = data_frame_agrupado['total_count'].idxmin()\n",
    "print('Estação do ano que contém a menor média de locações de bicicletas :{} no caso inverno'.format(menor_season))\n",
    "#j. Qual horário do dia contém a maior média de locações de bicicletas?\n",
    "horario_agrupado = data_frame.groupby('hour')['total_count'].mean()\n",
    "horario_agrupado_data_frame = pd.DataFrame(horario_agrupado)\n",
    "print('{} horas é o horário do dia que contém a maior média de locações de bicicletas'.format(horario_agrupado_data_frame['total_count'].idxmax()))\n",
    "#k. Qual horário do dia contém a menor média de locações de bicicletas?\n",
    "print('{} horas é o horário do dia que contém a menor média de locações de bicicletas'.format(horario_agrupado_data_frame['total_count'].idxmin()))\n",
    "#l. Que dia da semana contém a maior média de locações de bicicletas?\n",
    "semana_agrupada = data_frame.groupby('weekday')['total_count'].mean()\n",
    "semana_agrupada_data_frame = pd.DataFrame(semana_agrupada)\n",
    "print('{} dia da semana contém a maior média de locações de bicicletas'.format(semana_agrupada_data_frame['total_count'].idxmax()))\n",
    "#m. Que dia da semana contém a menor média de locações de bicicletas?\n",
    "print('{} dia da semana contém a menor média de locações de bicicletas'.format(semana_agrupada_data_frame['total_count'].idxmin()))\n",
    "#n. Às quartas-feiras (weekday = 3), qual o horário do dia que contém a maior média de locações de bicicletas?\n",
    "quartas_feiras = data_frame[data_frame['weekday'] == 3]\n",
    "quartas_feiras_agrupado = quartas_feiras.groupby('hour')['total_count'].mean()\n",
    "quartas_feiras_agrupado_data_frame = pd.DataFrame(quartas_feiras_agrupado)\n",
    "print('Às quartas-feiras (weekday = 3), o horário do dia que contém a maior média de locações de bicicletas é as {}hs'.format(int(quartas_feiras_agrupado_data_frame.idxmax())))\n",
    "#o. Aos sábados (weekday = 6), qual o horário do dia que contém a maior média de locações de bicicletas?\n",
    "sabado = data_frame[data_frame['weekday'] == 6]\n",
    "sabado_agrupado = sabado.groupby('hour')['total_count'].mean()\n",
    "sabado_agrupado_data_frame = pd.DataFrame(sabado_agrupado)\n",
    "print('Aos sábados (weekday = 6), o horário do dia que contém a maior média de locações de bicicletas é as {}hs'.format(int(sabado_agrupado_data_frame.idxmax())))\n"
   ]
  }
 ],
 "metadata": {
  "kernelspec": {
   "display_name": "Python 3",
   "language": "python",
   "name": "python3"
  },
  "language_info": {
   "codemirror_mode": {
    "name": "ipython",
    "version": 3
   },
   "file_extension": ".py",
   "mimetype": "text/x-python",
   "name": "python",
   "nbconvert_exporter": "python",
   "pygments_lexer": "ipython3",
   "version": "3.10.10"
  },
  "orig_nbformat": 4
 },
 "nbformat": 4,
 "nbformat_minor": 2
}
